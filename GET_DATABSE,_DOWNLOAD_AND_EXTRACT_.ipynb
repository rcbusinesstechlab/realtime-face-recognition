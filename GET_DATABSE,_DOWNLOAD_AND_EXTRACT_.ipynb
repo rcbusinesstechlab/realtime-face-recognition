{
  "nbformat": 4,
  "nbformat_minor": 0,
  "metadata": {
    "colab": {
      "provenance": [],
      "authorship_tag": "ABX9TyNJ3eRMnusTjSr+jBxjLC7w",
      "include_colab_link": true
    },
    "kernelspec": {
      "name": "python3",
      "display_name": "Python 3"
    },
    "language_info": {
      "name": "python"
    }
  },
  "cells": [
    {
      "cell_type": "markdown",
      "metadata": {
        "id": "view-in-github",
        "colab_type": "text"
      },
      "source": [
        "<a href=\"https://colab.research.google.com/github/rcbusinesstechlab/realtime-face-recognition/blob/main/GET_DATABSE%2C_DOWNLOAD_AND_EXTRACT_.ipynb\" target=\"_parent\"><img src=\"https://colab.research.google.com/assets/colab-badge.svg\" alt=\"Open In Colab\"/></a>"
      ]
    },
    {
      "cell_type": "code",
      "execution_count": 13,
      "metadata": {
        "colab": {
          "base_uri": "https://localhost:8080/"
        },
        "id": "FxPzMO7TLkSd",
        "outputId": "a49e7464-a258-41bc-9799-471f2255cc32"
      },
      "outputs": [
        {
          "output_type": "stream",
          "name": "stdout",
          "text": [
            "Downloading dataset...\n"
          ]
        },
        {
          "output_type": "stream",
          "name": "stderr",
          "text": [
            "1203it [00:00, 12566.18it/s]"
          ]
        },
        {
          "output_type": "stream",
          "name": "stdout",
          "text": [
            "Extracting dataset...\n"
          ]
        },
        {
          "output_type": "stream",
          "name": "stderr",
          "text": [
            "\n"
          ]
        }
      ],
      "source": [
        "import os\n",
        "import zipfile\n",
        "import requests\n",
        "from tqdm import tqdm\n",
        "\n",
        "# Step 1: Set up directory\n",
        "dataset_dir = \"brain_tumor_dataset\"\n",
        "zip_filename = \"brain_tumor_dataset.zip\"\n",
        "repo_zip_url = \"https://github.com/adityajn105/brain-tumor-segmentation-unet/archive/refs/heads/master.zip\"\n",
        "\n",
        "# Step 2: Download the dataset ZIP if not already downloaded\n",
        "if not os.path.exists(zip_filename):\n",
        "    print(\"Downloading dataset...\")\n",
        "    response = requests.get(repo_zip_url, stream=True)\n",
        "    with open(zip_filename, 'wb') as f:\n",
        "        for chunk in tqdm(response.iter_content(chunk_size=1024)):\n",
        "            if chunk:\n",
        "                f.write(chunk)\n",
        "else:\n",
        "    print(\"Dataset zip already exists.\")\n",
        "\n",
        "# Step 3: Extract the zip\n",
        "if not os.path.exists(dataset_dir):\n",
        "    print(\"Extracting dataset...\")\n",
        "    with zipfile.ZipFile(zip_filename, 'r') as zip_ref:\n",
        "        zip_ref.extractall()\n",
        "    # Rename the extracted folder to a consistent name\n",
        "    os.rename(\"brain-tumor-segmentation-unet-master\", dataset_dir)\n",
        "else:\n",
        "    print(\"Dataset already extracted.\")\n"
      ]
    }
  ]
}