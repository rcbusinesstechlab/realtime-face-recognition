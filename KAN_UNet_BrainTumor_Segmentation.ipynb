{
  "cells": [
    {
      "cell_type": "markdown",
      "metadata": {
        "id": "view-in-github",
        "colab_type": "text"
      },
      "source": [
        "<a href=\"https://colab.research.google.com/github/rcbusinesstechlab/realtime-face-recognition/blob/main/KAN_UNet_BrainTumor_Segmentation.ipynb\" target=\"_parent\"><img src=\"https://colab.research.google.com/assets/colab-badge.svg\" alt=\"Open In Colab\"/></a>"
      ]
    },
    {
      "cell_type": "markdown",
      "metadata": {
        "id": "3n4JxMJaXdmH"
      },
      "source": [
        "# KAN-UNet Brain Tumor Segmentation\n",
        "This notebook implements a full pipeline for brain tumor segmentation using a U-Net enhanced with Kolmogorov-Arnold Networks (KAN)."
      ],
      "id": "3n4JxMJaXdmH"
    },
    {
      "cell_type": "code",
      "execution_count": null,
      "metadata": {
        "id": "TYjHfZktXdmI"
      },
      "outputs": [],
      "source": [
        "!pip install monai nibabel wandb"
      ],
      "id": "TYjHfZktXdmI"
    },
    {
      "cell_type": "code",
      "execution_count": null,
      "metadata": {
        "id": "-t733dZDXdmJ"
      },
      "outputs": [],
      "source": [
        "import os\n",
        "import torch\n",
        "import numpy as np\n",
        "import nibabel as nib\n",
        "import monai\n",
        "from monai.transforms import *\n",
        "from monai.networks.nets import UNet\n",
        "from monai.metrics import compute_meandice, compute_hausdorff_distance\n",
        "from monai.data import DataLoader, Dataset, decollate_batch\n",
        "from monai.losses import DiceLoss\n",
        "import wandb\n",
        "\n",
        "device = torch.device(\"cuda\" if torch.cuda.is_available() else \"cpu\")"
      ],
      "id": "-t733dZDXdmJ"
    },
    {
      "cell_type": "code",
      "execution_count": null,
      "metadata": {
        "id": "Qaa0FC6CXdmJ"
      },
      "outputs": [],
      "source": [
        "# Sample data paths (replace with actual)\n",
        "train_files = [{\"image\": \"path_to_image.nii.gz\", \"label\": \"path_to_label.nii.gz\"}]\n",
        "\n",
        "# Define transforms\n",
        "train_transforms = Compose([\n",
        "    LoadImaged(keys=[\"image\", \"label\"]),\n",
        "    AddChanneld(keys=[\"image\", \"label\"]),\n",
        "    Spacingd(keys=[\"image\", \"label\"], pixdim=(1.5, 1.5, 2.0), mode=(\"bilinear\", \"nearest\")),\n",
        "    Orientationd(keys=[\"image\", \"label\"], axcodes=\"RAS\"),\n",
        "    ScaleIntensityRanged(keys=[\"image\"], a_min=-1000, a_max=1000, b_min=0.0, b_max=1.0),\n",
        "    ToTensord(keys=[\"image\", \"label\"])\n",
        "])\n",
        "\n",
        "train_ds = Dataset(data=train_files, transform=train_transforms)\n",
        "train_loader = DataLoader(train_ds, batch_size=1, shuffle=True)"
      ],
      "id": "Qaa0FC6CXdmJ"
    },
    {
      "cell_type": "code",
      "execution_count": null,
      "metadata": {
        "id": "vwd1DY_cXdmJ"
      },
      "outputs": [],
      "source": [
        "# SimpleKAN assumed to be available as simplekan.py\n",
        "from simplekan import SimpleKAN\n",
        "\n",
        "class KAN_UNet(torch.nn.Module):\n",
        "    def __init__(self):\n",
        "        super().__init__()\n",
        "        self.unet = UNet(\n",
        "            spatial_dims=3,\n",
        "            in_channels=1,\n",
        "            out_channels=3,\n",
        "            channels=(16, 32, 64, 128, 256),\n",
        "            strides=(2, 2, 2, 2),\n",
        "            num_res_units=2\n",
        "        )\n",
        "        self.kan = SimpleKAN(input_size=256, output_size=256)\n",
        "\n",
        "    def forward(self, x):\n",
        "        x = self.unet(x)\n",
        "        b, c, *dims = x.shape\n",
        "        x_flat = x.view(b, c, -1).permute(0, 2, 1)\n",
        "        x_out = self.kan(x_flat)\n",
        "        x_out = x_out.permute(0, 2, 1).view(b, c, *dims)\n",
        "        return x_out"
      ],
      "id": "vwd1DY_cXdmJ"
    },
    {
      "cell_type": "code",
      "execution_count": null,
      "metadata": {
        "id": "SOcL8mxXXdmK"
      },
      "outputs": [],
      "source": [
        "# Training loop\n",
        "model = KAN_UNet().to(device)\n",
        "loss_fn = DiceLoss(to_onehot_y=True, softmax=True)\n",
        "optimizer = torch.optim.Adam(model.parameters(), lr=1e-4)\n",
        "\n",
        "for epoch in range(50):\n",
        "    model.train()\n",
        "    for batch in train_loader:\n",
        "        images, labels = batch[\"image\"].to(device), batch[\"label\"].to(device)\n",
        "        outputs = model(images)\n",
        "        loss = loss_fn(outputs, labels)\n",
        "        loss.backward()\n",
        "        optimizer.step()\n",
        "        optimizer.zero_grad()\n",
        "    print(f\"Epoch {epoch+1} Loss: {loss.item():.4f}\")"
      ],
      "id": "SOcL8mxXXdmK"
    },
    {
      "cell_type": "code",
      "execution_count": null,
      "metadata": {
        "id": "xuAqILIGXdmK"
      },
      "outputs": [],
      "source": [
        "# Evaluation\n",
        "model.eval()\n",
        "dice_scores = []\n",
        "hd95_scores = []\n",
        "\n",
        "with torch.no_grad():\n",
        "    for batch in train_loader:\n",
        "        images, labels = batch[\"image\"].to(device), batch[\"label\"].to(device)\n",
        "        outputs = torch.argmax(model(images), dim=1, keepdim=True)\n",
        "        labels = labels[:, 0:1, ...]\n",
        "\n",
        "        dice = compute_meandice(y_pred=outputs, y=labels, include_background=False)\n",
        "        hd95 = compute_hausdorff_distance(y_pred=outputs, y=labels, percentile=95.0)\n",
        "\n",
        "        dice_scores.append(dice.cpu().numpy())\n",
        "        hd95_scores.append(hd95.cpu().numpy())\n",
        "\n",
        "print(\"Average Dice:\", np.mean(dice_scores))\n",
        "print(\"Average HD95:\", np.mean(hd95_scores))"
      ],
      "id": "xuAqILIGXdmK"
    },
    {
      "cell_type": "code",
      "execution_count": null,
      "metadata": {
        "id": "NJ7OY1dwXdmK"
      },
      "outputs": [],
      "source": [
        "# W&B logging\n",
        "wandb.init(project=\"kan_unet_segmentation\")\n",
        "wandb.log({\n",
        "    \"dice_avg\": float(np.mean(dice_scores)),\n",
        "    \"hd95_avg\": float(np.mean(hd95_scores))\n",
        "})"
      ],
      "id": "NJ7OY1dwXdmK"
    }
  ],
  "metadata": {
    "kernelspec": {
      "display_name": "Python 3",
      "language": "python",
      "name": "python3"
    },
    "language_info": {
      "name": "python",
      "version": "3.10"
    },
    "colab": {
      "provenance": [],
      "include_colab_link": true
    }
  },
  "nbformat": 4,
  "nbformat_minor": 5
}